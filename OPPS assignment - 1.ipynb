{
 "cells": [
  {
   "cell_type": "markdown",
   "id": "b46efb0b",
   "metadata": {},
   "source": [
    "# Q1, Create a vehicle class with an init method having instance variables as name_of_vehicle, max_speed and average_of_vehicle."
   ]
  },
  {
   "cell_type": "code",
   "execution_count": 3,
   "id": "8259873d",
   "metadata": {},
   "outputs": [],
   "source": [
    "class vehicle_class:\n",
    "    def __init__(self, name_of_vechile, max_speed, average_of_vechile):\n",
    "        self.name_of_vechile = name_of_vechile\n",
    "        self.max_speed = max_speed\n",
    "        self.average_of_vechile = average_of_vechile\n",
    "        \n",
    "    def vechiles_details(self):\n",
    "        return self.name_of_vechile ,self.max_speed , self.average_of_vechile"
   ]
  },
  {
   "cell_type": "code",
   "execution_count": 4,
   "id": "8aeeaabb",
   "metadata": {},
   "outputs": [],
   "source": [
    "details = vehicle_class(\"audi\", 300, 15)"
   ]
  },
  {
   "cell_type": "code",
   "execution_count": 17,
   "id": "2924e93f",
   "metadata": {},
   "outputs": [
    {
     "data": {
      "text/plain": [
       "('audi', 300, 15)"
      ]
     },
     "execution_count": 17,
     "metadata": {},
     "output_type": "execute_result"
    }
   ],
   "source": [
    "details.vechiles_details()"
   ]
  },
  {
   "cell_type": "code",
   "execution_count": null,
   "id": "f4c41d10",
   "metadata": {},
   "outputs": [],
   "source": []
  },
  {
   "cell_type": "markdown",
   "id": "310d41cf",
   "metadata": {},
   "source": [
    "# Create a child class car from the vehicle class created in Que 1, which will inherit the vehicle class.Create a method named seating_capacity which takes capacity as an argument and returns the name ofthe vehicle and its seating capacity."
   ]
  },
  {
   "cell_type": "code",
   "execution_count": 14,
   "id": "3ab18563",
   "metadata": {},
   "outputs": [],
   "source": [
    "class vehicle_class:\n",
    "    def __init__(self, name_of_vechile, max_speed, average_of_vechile):\n",
    "        self.name_of_vechile = name_of_vechile\n",
    "        self.max_speed = max_speed\n",
    "        self.average_of_vechile = average_of_vechile\n",
    "        \n",
    "    def vechiles_details(self):\n",
    "        return self.name_of_vechile ,self.max_speed , self.average_of_vechile"
   ]
  },
  {
   "cell_type": "code",
   "execution_count": 15,
   "id": "e0d78f33",
   "metadata": {},
   "outputs": [],
   "source": [
    "class Car(vehicle_class):\n",
    "    def car_capacity():\n",
    "        return 5"
   ]
  },
  {
   "cell_type": "code",
   "execution_count": 20,
   "id": "133beb9c",
   "metadata": {},
   "outputs": [],
   "source": [
    "seating_capacity = Car.car_capacity()"
   ]
  },
  {
   "cell_type": "code",
   "execution_count": 21,
   "id": "d0a03c4b",
   "metadata": {},
   "outputs": [
    {
     "data": {
      "text/plain": [
       "5"
      ]
     },
     "execution_count": 21,
     "metadata": {},
     "output_type": "execute_result"
    }
   ],
   "source": [
    "seating_capacity"
   ]
  },
  {
   "cell_type": "markdown",
   "id": "ce1e056a",
   "metadata": {},
   "source": [
    "# Q3. What is multiple inheritance? Write a python code to demonstrate multiple inheritance."
   ]
  },
  {
   "cell_type": "code",
   "execution_count": null,
   "id": "981ed730",
   "metadata": {},
   "outputs": [],
   "source": [
    "# Answer_ A class can be derived from more than one superclass in Python. This is called multiple inheritance"
   ]
  },
  {
   "cell_type": "code",
   "execution_count": 22,
   "id": "2cdb533d",
   "metadata": {},
   "outputs": [],
   "source": [
    "class test_1:\n",
    "    def multiclass(self):\n",
    "        return \n",
    "class test_2:\n",
    "    def multiclass2(self):\n",
    "        return False"
   ]
  },
  {
   "cell_type": "code",
   "execution_count": 23,
   "id": "6c61e0b1",
   "metadata": {},
   "outputs": [],
   "source": [
    "class total_test(test_1, test_2):\n",
    "    pass"
   ]
  },
  {
   "cell_type": "code",
   "execution_count": 24,
   "id": "a56426a2",
   "metadata": {},
   "outputs": [],
   "source": [
    "object_test = total_test()"
   ]
  },
  {
   "cell_type": "code",
   "execution_count": 25,
   "id": "dbfd402f",
   "metadata": {},
   "outputs": [
    {
     "data": {
      "text/plain": [
       "False"
      ]
     },
     "execution_count": 25,
     "metadata": {},
     "output_type": "execute_result"
    }
   ],
   "source": [
    "object_test.multiclass2()"
   ]
  },
  {
   "cell_type": "markdown",
   "id": "fec8d16a",
   "metadata": {},
   "source": [
    "# Q4. What are getter and setter in python? Create a class and create a getter and a setter method in this\n"
   ]
  },
  {
   "cell_type": "code",
   "execution_count": 52,
   "id": "960da609",
   "metadata": {},
   "outputs": [],
   "source": [
    "class pwskill:\n",
    "    def __init__(self, age =0):\n",
    "        self._age = age\n",
    "    def get_age(self):\n",
    "        return self._age\n",
    "    \n",
    "    \n",
    "    def set_age(self, x):\n",
    "        self._age = x"
   ]
  },
  {
   "cell_type": "code",
   "execution_count": 53,
   "id": "faa34d58",
   "metadata": {},
   "outputs": [],
   "source": [
    "pw = pwskill()"
   ]
  },
  {
   "cell_type": "code",
   "execution_count": 54,
   "id": "23c8aaee",
   "metadata": {},
   "outputs": [
    {
     "data": {
      "text/plain": [
       "0"
      ]
     },
     "execution_count": 54,
     "metadata": {},
     "output_type": "execute_result"
    }
   ],
   "source": [
    "pw.get_age()"
   ]
  },
  {
   "cell_type": "code",
   "execution_count": 55,
   "id": "d9e32e5b",
   "metadata": {},
   "outputs": [],
   "source": [
    "pw.set_age(45)"
   ]
  },
  {
   "cell_type": "markdown",
   "id": "80e89104",
   "metadata": {},
   "source": [
    "#Q5.What is method overriding in python? Write a python code to demonstrate method overriding."
   ]
  },
  {
   "cell_type": "raw",
   "id": "a2b10b31",
   "metadata": {},
   "source": [
    "# whenever er writing method name with same signature in parent and child clas  called metghod overriding"
   ]
  },
  {
   "cell_type": "code",
   "execution_count": 65,
   "id": "9d7619ba",
   "metadata": {},
   "outputs": [],
   "source": [
    "class A:\n",
    "    def student(self):\n",
    "        return (\"This is the my new method to write the code\")"
   ]
  },
  {
   "cell_type": "code",
   "execution_count": 66,
   "id": "7fa3da92",
   "metadata": {},
   "outputs": [],
   "source": [
    "class B(A):\n",
    "    def student(self):\n",
    "        return (\"This is the my new method to write the code\")"
   ]
  },
  {
   "cell_type": "code",
   "execution_count": 67,
   "id": "53cdfd5e",
   "metadata": {},
   "outputs": [],
   "source": [
    "method = B()"
   ]
  },
  {
   "cell_type": "code",
   "execution_count": 69,
   "id": "bbef4a31",
   "metadata": {},
   "outputs": [
    {
     "data": {
      "text/plain": [
       "'This is the my new method to write the code'"
      ]
     },
     "execution_count": 69,
     "metadata": {},
     "output_type": "execute_result"
    }
   ],
   "source": [
    "method.student()"
   ]
  },
  {
   "cell_type": "code",
   "execution_count": null,
   "id": "bbc57d67",
   "metadata": {},
   "outputs": [],
   "source": []
  },
  {
   "cell_type": "code",
   "execution_count": null,
   "id": "d34fdf90",
   "metadata": {},
   "outputs": [],
   "source": []
  }
 ],
 "metadata": {
  "kernelspec": {
   "display_name": "Python 3 (ipykernel)",
   "language": "python",
   "name": "python3"
  },
  "language_info": {
   "codemirror_mode": {
    "name": "ipython",
    "version": 3
   },
   "file_extension": ".py",
   "mimetype": "text/x-python",
   "name": "python",
   "nbconvert_exporter": "python",
   "pygments_lexer": "ipython3",
   "version": "3.9.13"
  }
 },
 "nbformat": 4,
 "nbformat_minor": 5
}
